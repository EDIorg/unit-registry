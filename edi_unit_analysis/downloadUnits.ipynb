{
 "cells": [
  {
   "cell_type": "markdown",
   "metadata": {},
   "source": [
    "# Unit Analysis: Download\n",
    "\n",
    "Download the units and custom units used in the EDI Repository and export as JSON"
   ]
  },
  {
   "cell_type": "markdown",
   "metadata": {},
   "source": [
    "## Create Package ID dictionary\n",
    "\n",
    "Create a python dictionary of all packages organized by scope"
   ]
  },
  {
   "cell_type": "code",
   "execution_count": 1,
   "metadata": {},
   "outputs": [],
   "source": [
    "import requests\n",
    "\n",
    "r_scopes = requests.get(\"https://pasta.lternet.edu/package/eml\")\n",
    "scopes = r_scopes.text.split('\\n')\n",
    "\n",
    "pid_dict = {}\n",
    "for s in scopes:\n",
    "    pid_dict[s] = requests.get(\"https://pasta.lternet.edu/package/eml/\" + s).text.split('\\n')"
   ]
  },
  {
   "cell_type": "markdown",
   "metadata": {},
   "source": [
    "## Create list of all metadata (latest versions)"
   ]
  },
  {
   "cell_type": "code",
   "execution_count": 2,
   "metadata": {},
   "outputs": [],
   "source": [
    "edi_pids = pid_dict['edi']"
   ]
  },
  {
   "cell_type": "markdown",
   "metadata": {},
   "source": [
    "## Parse metadata to units and custom units\n",
    "\n",
    "Standard units are located in the `<standardUnit>` element of an `<attribute>`.\n",
    "\n",
    "Custom units are located in the `<unitList>` of an `<additionalMetadata>` element.\n",
    "\n",
    "## Metrics\n",
    "\n",
    "Create a dictionary of unit names and overall counts (one for standard and one for custom)\n",
    "Create a dictionary of unit names and dataset counts (one tally per unit per dataset)\n"
   ]
  },
  {
   "cell_type": "code",
   "execution_count": 40,
   "metadata": {},
   "outputs": [
    {
     "name": "stdout",
     "output_type": "stream",
     "text": [
      "progress: 1, 2, 3, 4, 5, 6, 7, 8, 9, 12, 13, 14, 15, 16, 17, 18, 19, 20, 21, 22, 23, 24, 25, 26, 27, 28, 29, 30, 31, 32, 33, 34, 35, 36, 37, 38, 39, 40, 41, 42, 43, 44, 45, 46, 47, 48, 49, 50, 51, 52, 53, 54, 55, 56, 57, 58, 59, 60, 61, 62, 63, 64, 65, 66, 67, 68, 69, 70, 71, 72, 73, 74, 75, 76, 77, 78, 79, 80, 81, 82, 83, 84, 85, 86, 87, 88, 89, 90, 91, 92, 93, 94, 95, 96, 97, 98, 99, 100, 101, 102, 103, 104, 105, 106, 107, 108, 109, 110, 111, 112, 113, 114, 115, 116, 117, 118, 119, 120, 121, 122, 123, 124, 125, 126, 127, 128, 129, 133, 134, 135, 136, 137, 138, 139, 140, 141, 143, 144, 145, 146, 147, 148, 149, 150, 151, 153, 155, 157, 160, 163, 164, 165, 166, 167, 168, 169, 170, 176, 179, 181, 184, 186, 187, 188, 189, 190, 191, 192, 193, 194, 195, 197, 198, 199, 200, 201, 202, 206, 207, 208, 210, 213, 214, 215, 216, 217, 218, 219, 220, 221, 223, 224, 225, 226, 227, 228, 229, 230, 231, 232, 233, 234, 235, 236, 237, 238, 239, 240, 241, 242, 243, 244, 246, 247, 248, 250, 251, 252, 253, 254, 255, 256, 257, 258, 259, 260, 261, 262, 263, 264, 265, 267, 268, 269, 270, 271, 272, 273, 274, 275, 276, 277, 278, 279, 280, 281, 282, 283, 284, 285, 286, 287, 289, 290, 291, 292, 295, 296, 299, 302, 303, 305, 306, 307, 308, 309, 311, 312, 313, 314, 316, 317, 318, 319, 320, 321, 322, 323, 324, 325, 326, 327, 328, 329, 330, 331, 332, 333, 334, 335, 336, 337, 338, 339, 340, 341, 342, 343, 344, 345, 346, 347, 348, 349, 350, 351, 352, 353, 354, 355, 356, 357, 358, 359, 361, 362, 363, 364, 365, 366, 367, 368, 369, 370, 371, 372, 373, 374, 375, 376, 377, 378, 379, 380, 381, 382, 383, 384, 385, 386, 387, 388, 389, 390, 391, 392, 393, 394, 395, 396, 397, 398, 399, 400, 401, 402, 403, 404, 405, 406, 407, 408, 409, 410, 411, 412, 413, 414, 415, 416, 417, 418, 420, 421, 422, 423, 424, 425, 426, 427, 428, 430, 435, 436, 437, 438, 439, 440, 441, 442, 443, 444, 445, 447, 448, 450, 451, 452, 453, 454, 455, 456, 457, 458, 459, 460, 461, 462, 463, 464, 465, 466, 467, 468, 469, 470, 471, 472, 473, 474, 475, 476, 477, 478, 479, 480, 481, 482, 484, 486, 487, 488, 489, 490, 491, 492, 493, 494, 495, 496, 497, 498, 499, 500, 502, 503, 504, 505, 506, 507, 508, 509, 510, 512, 513, 514, 515, 516, 517, 519, 520, 521, 522, 523, 524, 525, 527, 529, 530, 531, 532, 533, 534, 535, 536, 537, 538, 539, 540, 541, 542, 543, 544, 545, 546, 547, 548, 549, 551, 552, 553, 554, 555, 556, 557, 558, 559, 560, 561, 562, 563, 565, 566, 567, 568, 569, 570, 571, 572, 573, 574, 575, 576, 577, 580, 581, 582, 583, 584, 585, 587, 590, 591, 592, 593, 594, 595, 596, 597, 598, 599, 600, 601, 602, 603, 605, 606, 607, 608, 609, 610, 611, 612, 613, 614, 615, 616, 617, 618, 619, 620, 621, 622, 623, 624, 625, 626, 627, 628, 629, 631, 632, 633, 634, 635, 637, 638, 640, 641, 642, 643, 644, 645, 646, 647, 648, 649, 650, 651, 652, 653, 654, 655, 656, 657, 658, 659, 660, 661, 662, 677, 679, 682, 683, 684, 685, 686, 687, 688, 691, 692, 694, 695, 696, 698, 699, 700, 701, 702, 703, 704, 705, 706, 707, 708, 709, 710, 711, 712, 713, 714, 715, 716, 722, 723, 724, 725, 726, 730, 731, 732, 733, 734, 735, 736, 737, 738, 739, 740, 742, 743, 744, 745, 746, 747, 748, 749, 751, 752, 753, 754, 755, 756, 757, 759, 760, 817, 818, 820, 821, 822, 824, 825, 826, 827, 828, 829, 831, 832, 833, 834, 836, 837, 838, 839, 840, 841, 842, 843, 845, 846, 848, 849, 850, 851, 852, 853, 854, 855, 856, 858, 859, 860, 861, 862, 863, 864, 865, 866, 867, 868, 869, 870, 871, 872, 873, 874, 875, 876, 877, 879, 880, 881, 882, 884, 885, 886, 887, 888, 889, 890, 892, 893, 894, 895, 896, 897, 898, 900, 901, 902, 903, 904, 905, 906, 907, 908, 909, 910, 911, 912, 913, 914, 915, 916, 917, 918, 919, 920, 921, 922, 923, 924, 925, 926, 927, 928, 929, 930, 931, 932, 933, 934, 935, 936, 937, 938, 939, 940, 941, 942, 943, 944, 945, 946, 947, 948, 949, 950, 951, 952, 953, 954, 955, 956, 958, 959, 960, 962, 963, 964, 965, 966, 967, 968, 969, 970, 971, 972, 973, 974, 975, 976, 978, 979, 980, 981, 982, 983, 984, 985, 986, 987, 988, 989, 991, 992, 993, 994, 995, 996, 997, 998, 999, 1000, 1001, 1003, 1004, 1005, 1006, 1007, 1008, 1009, 1010, 1011, 1012, 1013, 1014, 1015, 1016, 1017, 1018, 1019, 1020, 1021, 1022, 1023, 1024, 1025, 1026, 1027, 1028, 1029, 1030, 1031, 1032, 1033, 1034, 1035, 1036, 1037, 1038, 1039, 1041, 1042, 1043, 1044, 1045, 1046, 1047, 1049, 1050, 1051, 1052, 1053, 1054, 1055, 1056, 1057, 1058, 1059, 1060, 1061, 1062, 1063, 1064, 1065, 1066, 1067, 1069, 1070, 1071, 1072, 1073, 1075, 1076, 1077, 1078, 1079, 1080, 1081, 1082, 1083, 1084, 1085, 1086, 1087, 1089, 1090, 1091, 1097, 1098, 1100, 1101, 1103, 1104, 1105, 1106, 1107, 1108, 1109, 1110, 1111, 1112, 1113, 1114, 1115, 1118, Done.\n"
     ]
    }
   ],
   "source": [
    "import xml.etree.ElementTree as ET\n",
    "\n",
    "standardUnits = {}\n",
    "customUnits = {}\n",
    "standardUnitsDatasetCount = {}\n",
    "customUnitsDatasetCount = {}\n",
    "unitCount = {}\n",
    "\n",
    "failed_packages = []\n",
    "\n",
    "print(\"progress: \", end=\"\")\n",
    "\n",
    "for p in edi_pids:\n",
    "\n",
    "    print(p, end=\", \")\n",
    "\n",
    "    x = requests.get(\"https://pasta.lternet.edu/package/metadata/eml/edi/\" + p + \"/newest\").text\n",
    "\n",
    "    if 'User public does not have permission to read this metadata document:' in x:\n",
    "        failed_packages.append(p)\n",
    "        continue\n",
    "    \n",
    "    root = ET.fromstring(x)\n",
    "\n",
    "    dataset = root[1]\n",
    "\n",
    "    standard_set = []\n",
    "    custom_set = []\n",
    "\n",
    "    for unit in dataset.findall('dataTable/attributeList/attribute/measurementScale/ratio/unit/standardUnit'):\n",
    "\n",
    "        standard_set.append(unit.text)\n",
    "\n",
    "        if unit.text in standardUnits:\n",
    "            standardUnits[unit.text] += 1\n",
    "        else:\n",
    "            standardUnits[unit.text] = 1\n",
    "\n",
    "    # TODO can this be deleted? \n",
    "    # for custom in root.findall('additionalMetadata/metadata/unitList/unit'):\n",
    "\n",
    "    #     try:\n",
    "    #         customName = custom.attrib['id']\n",
    "    #     except (KeyError):\n",
    "    #         customName = custom.attrib['name']\n",
    "\n",
    "    #     custom_set.append(customName)\n",
    "\n",
    "    #     if customName in customUnits:\n",
    "    #         customUnits[customName] += 1\n",
    "    #     else:\n",
    "    #         customUnits[customName] = 1\n",
    "\n",
    "    for unit in dataset.findall('dataTable/attributeList/attribute/measurementScale/ratio/unit/customUnit'):\n",
    "\n",
    "        custom_set.append(unit.text)\n",
    "\n",
    "        if unit.text in customUnits:\n",
    "            customUnits[unit.text] += 1\n",
    "        else:\n",
    "            customUnits[unit.text] = 1\n",
    "\n",
    "    for su in set(standard_set):\n",
    "        if su in standardUnitsDatasetCount:\n",
    "            standardUnitsDatasetCount[su] += 1\n",
    "        else:\n",
    "            standardUnitsDatasetCount[su] = 1\n",
    "\n",
    "    for cu in set(custom_set):\n",
    "        if cu in customUnitsDatasetCount:\n",
    "            customUnitsDatasetCount[cu] += 1\n",
    "        else:\n",
    "            customUnitsDatasetCount[cu] = 1\n",
    "\n",
    "\n",
    "    editor = root.findall('additionalMetadata/metadata/emlEditor')\n",
    "    ezEML = False\n",
    "    if (len(editor) and editor[0].attrib['app'] =='ezEML'):\n",
    "        ezEML = True\n",
    "\n",
    "    unitCount[root.attrib['packageId']] = {\n",
    "        \"standardCount\": len(standard_set),\n",
    "        \"customCount\": len(custom_set),\n",
    "        \"ezEML\": ezEML}\n",
    "    \n",
    "\n",
    "print(\"Done.\")\n"
   ]
  },
  {
   "cell_type": "code",
   "execution_count": 41,
   "metadata": {},
   "outputs": [],
   "source": [
    "import json\n",
    "with open(\"standardUnitsCount.json\", \"w\") as outfile:\n",
    "    json.dump(standardUnits, outfile)\n",
    "\n",
    "with open(\"customUnitsCount.json\", \"w\") as outfile:\n",
    "    json.dump(customUnits, outfile)\n",
    "\n",
    "with open(\"standardUnitsDatasetCount.json\", \"w\") as outfile:\n",
    "    json.dump(standardUnitsDatasetCount, outfile)\n",
    "\n",
    "with open(\"customUnitsDatasetCount.json\", \"w\") as outfile:\n",
    "    json.dump(customUnitsDatasetCount, outfile)\n",
    "\n",
    "with open(\"unitCount.json\", \"w\") as outfile:\n",
    "    json.dump(unitCount, outfile)"
   ]
  },
  {
   "cell_type": "code",
   "execution_count": null,
   "metadata": {},
   "outputs": [],
   "source": []
  }
 ],
 "metadata": {
  "interpreter": {
   "hash": "31f2aee4e71d21fbe5cf8b01ff0e069b9275f58929596ceb00d14d90e3e16cd6"
  },
  "kernelspec": {
   "display_name": "Python 3.8.9 64-bit",
   "language": "python",
   "name": "python3"
  },
  "language_info": {
   "codemirror_mode": {
    "name": "ipython",
    "version": 3
   },
   "file_extension": ".py",
   "mimetype": "text/x-python",
   "name": "python",
   "nbconvert_exporter": "python",
   "pygments_lexer": "ipython3",
   "version": "3.8.9"
  },
  "orig_nbformat": 4
 },
 "nbformat": 4,
 "nbformat_minor": 2
}
