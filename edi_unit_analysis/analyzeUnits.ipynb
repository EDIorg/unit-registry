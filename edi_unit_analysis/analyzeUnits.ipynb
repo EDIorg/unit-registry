{
 "cells": [
  {
   "cell_type": "markdown",
   "metadata": {},
   "source": [
    "# Unit Analysis: Visualize\n",
    "\n",
    "Visualize the units and custom units most commonly used in the EDI Repository"
   ]
  },
  {
   "cell_type": "code",
   "execution_count": 65,
   "metadata": {},
   "outputs": [],
   "source": [
    "import json\n",
    "import pandas as pd\n",
    "import matplotlib.pyplot as plt\n",
    "import numpy as np\n",
    "import seaborn as sns\n",
    "\n",
    "ud = pd.read_csv('unitDictionary.csv')"
   ]
  },
  {
   "cell_type": "code",
   "execution_count": 2,
   "metadata": {},
   "outputs": [],
   "source": [
    "def jsonToDf(j):\n",
    "\n",
    "    file = open(j)\n",
    "\n",
    "    d = json.load(file)\n",
    "\n",
    "    names = []\n",
    "    counts = []\n",
    "\n",
    "    for key, value in list(d.items()):\n",
    "        names.append(key)\n",
    "        counts.append(value)\n",
    "\n",
    "    df = {\n",
    "        \"Unit Name\": names,\n",
    "        \"Unit Count\": counts} \n",
    "\n",
    "    return pd.DataFrame(df).sort_values(by=['Unit Count'], ascending=False)"
   ]
  },
  {
   "cell_type": "markdown",
   "metadata": {},
   "source": [
    "# Questions\n",
    "What are the most popular custom units?\n",
    "\n",
    "How many occurrences of standard units being listed as custom?\n",
    "\n",
    "Are ezEML datasets more likely to contain at least 1 custom units?\n",
    "\n",
    "Do ezEML datasets contain more custom units generally?"
   ]
  },
  {
   "cell_type": "code",
   "execution_count": 3,
   "metadata": {},
   "outputs": [
    {
     "data": {
      "text/html": [
       "<div>\n",
       "<style scoped>\n",
       "    .dataframe tbody tr th:only-of-type {\n",
       "        vertical-align: middle;\n",
       "    }\n",
       "\n",
       "    .dataframe tbody tr th {\n",
       "        vertical-align: top;\n",
       "    }\n",
       "\n",
       "    .dataframe thead th {\n",
       "        text-align: right;\n",
       "    }\n",
       "</style>\n",
       "<table border=\"1\" class=\"dataframe\">\n",
       "  <thead>\n",
       "    <tr style=\"text-align: right;\">\n",
       "      <th></th>\n",
       "      <th>Unit Name</th>\n",
       "      <th>Unit Count</th>\n",
       "    </tr>\n",
       "  </thead>\n",
       "  <tbody>\n",
       "    <tr>\n",
       "      <th>23</th>\n",
       "      <td>percent</td>\n",
       "      <td>443</td>\n",
       "    </tr>\n",
       "    <tr>\n",
       "      <th>109</th>\n",
       "      <td>pct areal cover</td>\n",
       "      <td>196</td>\n",
       "    </tr>\n",
       "    <tr>\n",
       "      <th>75</th>\n",
       "      <td>partsPerMillion</td>\n",
       "      <td>125</td>\n",
       "    </tr>\n",
       "    <tr>\n",
       "      <th>7</th>\n",
       "      <td>numberPerHectare</td>\n",
       "      <td>122</td>\n",
       "    </tr>\n",
       "    <tr>\n",
       "      <th>203</th>\n",
       "      <td>catchperuniteffort</td>\n",
       "      <td>112</td>\n",
       "    </tr>\n",
       "    <tr>\n",
       "      <th>545</th>\n",
       "      <td>numberPer0.1MillimeterCubed</td>\n",
       "      <td>110</td>\n",
       "    </tr>\n",
       "    <tr>\n",
       "      <th>548</th>\n",
       "      <td>numberPer100Milliliters</td>\n",
       "      <td>90</td>\n",
       "    </tr>\n",
       "    <tr>\n",
       "      <th>2</th>\n",
       "      <td>microequivalentsPerLiter</td>\n",
       "      <td>82</td>\n",
       "    </tr>\n",
       "    <tr>\n",
       "      <th>42</th>\n",
       "      <td>microSiemenPerCentimeter</td>\n",
       "      <td>69</td>\n",
       "    </tr>\n",
       "    <tr>\n",
       "      <th>6</th>\n",
       "      <td>metersPerHectare</td>\n",
       "      <td>62</td>\n",
       "    </tr>\n",
       "    <tr>\n",
       "      <th>55</th>\n",
       "      <td>metersSquaredPerHectare</td>\n",
       "      <td>59</td>\n",
       "    </tr>\n",
       "    <tr>\n",
       "      <th>8</th>\n",
       "      <td>millimetersPerYear</td>\n",
       "      <td>59</td>\n",
       "    </tr>\n",
       "    <tr>\n",
       "      <th>267</th>\n",
       "      <td>microgramsPerMilligram</td>\n",
       "      <td>59</td>\n",
       "    </tr>\n",
       "    <tr>\n",
       "      <th>58</th>\n",
       "      <td>milligramsPerGram</td>\n",
       "      <td>55</td>\n",
       "    </tr>\n",
       "    <tr>\n",
       "      <th>78</th>\n",
       "      <td>NTU</td>\n",
       "      <td>47</td>\n",
       "    </tr>\n",
       "    <tr>\n",
       "      <th>87</th>\n",
       "      <td>dimensionless</td>\n",
       "      <td>47</td>\n",
       "    </tr>\n",
       "    <tr>\n",
       "      <th>273</th>\n",
       "      <td>integer</td>\n",
       "      <td>46</td>\n",
       "    </tr>\n",
       "    <tr>\n",
       "      <th>133</th>\n",
       "      <td>percentSaturation</td>\n",
       "      <td>43</td>\n",
       "    </tr>\n",
       "    <tr>\n",
       "      <th>195</th>\n",
       "      <td>milligramPerGram</td>\n",
       "      <td>42</td>\n",
       "    </tr>\n",
       "    <tr>\n",
       "      <th>71</th>\n",
       "      <td>microSiemensPerCentimeter</td>\n",
       "      <td>42</td>\n",
       "    </tr>\n",
       "  </tbody>\n",
       "</table>\n",
       "</div>"
      ],
      "text/plain": [
       "                       Unit Name  Unit Count\n",
       "23                       percent         443\n",
       "109              pct areal cover         196\n",
       "75               partsPerMillion         125\n",
       "7               numberPerHectare         122\n",
       "203           catchperuniteffort         112\n",
       "545  numberPer0.1MillimeterCubed         110\n",
       "548      numberPer100Milliliters          90\n",
       "2       microequivalentsPerLiter          82\n",
       "42      microSiemenPerCentimeter          69\n",
       "6               metersPerHectare          62\n",
       "55       metersSquaredPerHectare          59\n",
       "8             millimetersPerYear          59\n",
       "267       microgramsPerMilligram          59\n",
       "58             milligramsPerGram          55\n",
       "78                           NTU          47\n",
       "87                 dimensionless          47\n",
       "273                      integer          46\n",
       "133            percentSaturation          43\n",
       "195             milligramPerGram          42\n",
       "71     microSiemensPerCentimeter          42"
      ]
     },
     "execution_count": 3,
     "metadata": {},
     "output_type": "execute_result"
    }
   ],
   "source": [
    "jsonToDf('customUnitsCount.json').head(20)"
   ]
  },
  {
   "cell_type": "code",
   "execution_count": 49,
   "metadata": {},
   "outputs": [
    {
     "name": "stdout",
     "output_type": "stream",
     "text": [
      "577 unique custom units across EDI scoped data packages\n",
      "30 exact matches (case sensitive) to Standard Units\n",
      "443 occur in only one dataset\n",
      "                     Unit Name  Unit Count  exactMatch\n",
      "0                      percent          34           1\n",
      "1    microSiemensPerCentimeter          24           0\n",
      "2    microsiemensPerCentimeter          22           0\n",
      "3   nephelometricTurbidityUnit          17           0\n",
      "4     microSiemenPerCentimeter          16           0\n",
      "5                 nominalMonth          15           0\n",
      "6     microequivalentsPerLiter          14           0\n",
      "7               decimal degree          12           0\n",
      "8              partsPerMillion          12           0\n",
      "9            milligramsPerGram          11           0\n",
      "10                    unitless          10           0\n",
      "11            numberPerHectare           8           1\n",
      "12                          pH           7           0\n",
      "13               decimalDegree           7           0\n",
      "14                        feet           7           0\n",
      "15      micromhosPerCentimeter           6           0\n",
      "16    microSeimenPerCentimeter           6           0\n",
      "17           percentSaturation           6           0\n",
      "18          millimetersPerYear           6           0\n",
      "19                         NTU           6           0\n"
     ]
    }
   ],
   "source": [
    "custom_units = jsonToDf('customUnitsDatasetCount.json')\n",
    "\n",
    "\n",
    "exactMatch = {\"Unit Name\": [],\n",
    "                \"exactMatch\": []}\n",
    "for i in range(len(custom_units)):\n",
    "    if (custom_units['Unit Name'][i] in pd.Series(ud['id']).unique()):\n",
    "        exactMatch[\"Unit Name\"].append(custom_units['Unit Name'][i])\n",
    "        exactMatch['exactMatch'].append(1)\n",
    "    else:\n",
    "        exactMatch[\"Unit Name\"].append(custom_units['Unit Name'][i])\n",
    "        exactMatch['exactMatch'].append(0)\n",
    "custom_units = custom_units.merge(pd.DataFrame.from_dict(exactMatch))\n",
    "custom_units.to_csv('./custom_units.csv')\n",
    "\n"
   ]
  },
  {
   "cell_type": "markdown",
   "metadata": {},
   "source": [
    "spelling error = missed a standard unit by a misspelling, often due to plurals, case, or squareMeter/meterSquared-type confusion\n",
    "\n",
    "logic error = likely should have gone with a different unit that is standard (ratio vs. dimensionless, cellsPerLiter vs. numberPerLiter, mg C / kg soil vs. milligramPerKilogram)"
   ]
  },
  {
   "cell_type": "code",
   "execution_count": 68,
   "metadata": {},
   "outputs": [
    {
     "name": "stdout",
     "output_type": "stream",
     "text": [
      "577 unique custom units across EDI scoped data packages\n",
      "30 exact matches (case sensitive) to Standard Units\n",
      "73 are near matches to Standard Units (off by spelling error)\n",
      "91 are instances where data author should've opted for a Standard Unit\n",
      "443 occur in only one dataset\n",
      "                     Unit Name  Unit Count  exactMatch\n",
      "0                      percent          34           1\n",
      "1    microSiemensPerCentimeter          24           0\n",
      "2    microsiemensPerCentimeter          22           0\n",
      "3   nephelometricTurbidityUnit          17           0\n",
      "4     microSiemenPerCentimeter          16           0\n",
      "5                 nominalMonth          15           0\n",
      "6     microequivalentsPerLiter          14           0\n",
      "7               decimal degree          12           0\n",
      "8              partsPerMillion          12           0\n",
      "9            milligramsPerGram          11           0\n",
      "10                    unitless          10           0\n",
      "11            numberPerHectare           8           1\n",
      "12                          pH           7           0\n",
      "13               decimalDegree           7           0\n",
      "14                        feet           7           0\n",
      "15      micromhosPerCentimeter           6           0\n",
      "16    microSeimenPerCentimeter           6           0\n",
      "17           percentSaturation           6           0\n",
      "18          millimetersPerYear           6           0\n",
      "19                         NTU           6           0\n"
     ]
    },
    {
     "data": {
      "text/plain": [
       "<AxesSubplot:xlabel='Unit Count Binned', ylabel='count'>"
      ]
     },
     "execution_count": 68,
     "metadata": {},
     "output_type": "execute_result"
    },
    {
     "data": {
      "image/png": "[encoded data removed]",
      "text/plain": [
       "<Figure size 432x288 with 1 Axes>"
      ]
     },
     "metadata": {
      "needs_background": "light"
     },
     "output_type": "display_data"
    }
   ],
   "source": [
    "annotated = pd.read_csv('custom_units_annotated.csv')\n",
    "print(len(custom_units), \"unique custom units across EDI scoped data packages\")\n",
    "print(np.sum(custom_units['exactMatch']), \"exact matches (case sensitive) to Standard Units\")\n",
    "print(np.sum(annotated['spellingError'] == 1), \"are near matches to Standard Units (off by spelling error)\")\n",
    "print(np.sum(annotated['logicError'] == 1), \"are instances where data author should've opted for a Standard Unit\")\n",
    "print(np.sum(custom_units['Unit Count'] == 1), \"occur in only one dataset\")\n",
    "print(custom_units.head(20))\n",
    "\n",
    "annotated['Unit Count Binned'] = annotated['Unit Count'].mask(annotated['Unit Count'] > 5, \">5\") \n",
    "\n",
    "sns.countplot(x='Unit Count Binned', data=annotated)"
   ]
  },
  {
   "cell_type": "code",
   "execution_count": 75,
   "metadata": {},
   "outputs": [
    {
     "name": "stderr",
     "output_type": "stream",
     "text": [
      "/var/folders/yq/g14jm11d2xnbw19wkt0r171w0000gn/T/ipykernel_25183/1311721907.py:35: UserWarning: Attempted to set non-positive left xlim on a log-scaled axis.\n",
      "Invalid limit will be ignored.\n",
      "  plt.xlim(0,500)\n"
     ]
    },
    {
     "data": {
      "image/png": "[encoded data removed]",
      "text/plain": [
       "<Figure size 432x288 with 1 Axes>"
      ]
     },
     "metadata": {
      "needs_background": "light"
     },
     "output_type": "display_data"
    }
   ],
   "source": [
    "file = open('unitCount.json')\n",
    "\n",
    "d = json.load(file)\n",
    "\n",
    "pid = list(d.keys())\n",
    "standard = []\n",
    "custom = []\n",
    "ezEML = []\n",
    "\n",
    "for key in pid:\n",
    "    standard.append(d[key]['standardCount'])\n",
    "    custom.append(d[key]['customCount'])\n",
    "    ezEML.append(d[key]['ezEML'])\n",
    "\n",
    "df = {\n",
    "    \"packageid\": pid,\n",
    "    \"standard_unit_count\": standard,\n",
    "    \"custom_unit_count\": custom,\n",
    "    \"ezeml_generated\": ezEML} \n",
    "\n",
    "unitCountDf = pd.DataFrame(df).sort_values(by=['custom_unit_count'], ascending=False)\n",
    "\n",
    "Xe = unitCountDf[unitCountDf['ezeml_generated'] == True]['standard_unit_count']\n",
    "Ye = unitCountDf[unitCountDf['ezeml_generated'] == True]['custom_unit_count']\n",
    "\n",
    "X = unitCountDf[unitCountDf['ezeml_generated'] == False]['standard_unit_count']\n",
    "Y = unitCountDf[unitCountDf['ezeml_generated'] == False]['custom_unit_count']\n",
    "\n",
    "\n",
    "\n",
    "plt.scatter(X, Y, c='b', marker=\".\")\n",
    "plt.scatter(Xe, Ye, c='r', marker=\".\")\n",
    "plt.yscale('log')\n",
    "plt.xscale('log')\n",
    "plt.xlim(0,500)\n",
    "plt.show()\n",
    "\n"
   ]
  },
  {
   "cell_type": "markdown",
   "metadata": {},
   "source": []
  },
  {
   "cell_type": "code",
   "execution_count": null,
   "metadata": {},
   "outputs": [],
   "source": []
  }
 ],
 "metadata": {
  "interpreter": {
   "hash": "31f2aee4e71d21fbe5cf8b01ff0e069b9275f58929596ceb00d14d90e3e16cd6"
  },
  "kernelspec": {
   "display_name": "Python 3.8.9 64-bit",
   "language": "python",
   "name": "python3"
  },
  "language_info": {
   "codemirror_mode": {
    "name": "ipython",
    "version": 3
   },
   "file_extension": ".py",
   "mimetype": "text/x-python",
   "name": "python",
   "nbconvert_exporter": "python",
   "pygments_lexer": "ipython3",
   "version": "3.8.9"
  },
  "orig_nbformat": 4
 },
 "nbformat": 4,
 "nbformat_minor": 2
}
